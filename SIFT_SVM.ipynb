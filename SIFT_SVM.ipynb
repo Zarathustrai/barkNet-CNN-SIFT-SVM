{
 "cells": [
  {
   "cell_type": "markdown",
   "metadata": {
    "id": "4CXwbZfvDKCR"
   },
   "source": [
    "# Initials"
   ]
  },
  {
   "cell_type": "code",
   "execution_count": 50,
   "metadata": {
    "id": "5b6TPbwQ8-wC"
   },
   "outputs": [],
   "source": [
    "#Import libraries\n",
    "\n",
    "from imutils import paths\n",
    "from sklearn.metrics import confusion_matrix,accuracy_score\n",
    "from scipy.cluster.vq import kmeans,vq\n",
    "from sklearn.preprocessing import StandardScaler\n",
    "from PIL import Image\n",
    "from sklearn import svm\n",
    "from sklearn.model_selection import train_test_split, GridSearchCV, cross_val_score\n",
    "from sklearn.metrics import confusion_matrix, ConfusionMatrixDisplay\n",
    "from matplotlib.pyplot import figure\n",
    "import pandas as pd\n",
    "import matplotlib.pyplot as plt\n",
    "import numpy as np\n",
    "import os\n",
    "import pickle\n",
    "import cv2\n",
    "import random\n",
    "import pylab as pl\n",
    "import joblib\n",
    "import time\n",
    "\n",
    "# Blazej Dubiel - 10.04.2022"
   ]
  },
  {
   "cell_type": "code",
   "execution_count": 51,
   "metadata": {
    "colab": {
     "base_uri": "https://localhost:8080/"
    },
    "id": "N8sXIVX0FPGa",
    "outputId": "645d62aa-8af7-498e-e170-7f8fd4e6b377"
   },
   "outputs": [
    {
     "name": "stdout",
     "output_type": "stream",
     "text": [
      "4.5.5\n"
     ]
    }
   ],
   "source": [
    "# Check open-cv version (must be 4.4.0!!!)\n",
    "print(cv2.__version__)"
   ]
  },
  {
   "cell_type": "code",
   "execution_count": 52,
   "metadata": {},
   "outputs": [
    {
     "data": {
      "text/plain": [
       "'/Users/bdubiel97/Desktop/University of Groningen/DL in Forestry/Code'"
      ]
     },
     "execution_count": 52,
     "metadata": {},
     "output_type": "execute_result"
    }
   ],
   "source": [
    "pwd"
   ]
  },
  {
   "cell_type": "code",
   "execution_count": 55,
   "metadata": {
    "id": "dAKZksm48oZi"
   },
   "outputs": [],
   "source": [
    "# Global parameters setup\n",
    "\n",
    "class config:\n",
    "    # specify path to the dataset (dataset dir must be  within the same folder as this script)\n",
    "    # otherwise change\n",
    "    # DATASET_PATH = 'bark_photos'\n",
    "    DATASET_PATH = \"data/BarkNet\"\n",
    "    \n",
    "    # set the input height and width\n",
    "    INPUT_HEIGHT = 966\n",
    "    INPUT_WIDTH = 414\n",
    "    \n",
    "    # subset size\n",
    "    SUBSET_SIZE = 101\n",
    "    \n",
    "    # number of SIFT features to retain\n",
    "    nfts = 200"
   ]
  },
  {
   "cell_type": "code",
   "execution_count": 56,
   "metadata": {
    "colab": {
     "base_uri": "https://localhost:8080/"
    },
    "id": "Wp-Yhi-T8xwf",
    "outputId": "30db8285-8aa2-43d2-f3be-dcf273433b38"
   },
   "outputs": [
    {
     "name": "stdout",
     "output_type": "stream",
     "text": [
      "[INFO] loading image paths...\n",
      "Done\n"
     ]
    }
   ],
   "source": [
    "# Load all the image paths and randomly shuffle them\n",
    "print(\"[INFO] loading image paths...\")\n",
    "\n",
    "imagePaths = []\n",
    "for image_path1 in os.listdir(config.DATASET_PATH):\n",
    "    if not image_path1.startswith('.'):\n",
    "        image_path2 = os.path.join(config.DATASET_PATH, image_path1)\n",
    "        stop = 0 # initialize the counter\n",
    "        tempList = os.listdir(image_path2)\n",
    "        random.shuffle(tempList)\n",
    "        for image_path3 in tempList:\n",
    "\n",
    "            stop += 1\n",
    "            if stop < config.SUBSET_SIZE: \n",
    "              image_path3 = os.path.join(image_path2, image_path3)\n",
    "              imagePaths.append(image_path3)\n",
    "            else:\n",
    "              break\n",
    "\n",
    "np.random.shuffle(imagePaths)\n",
    "print(\"Done\")"
   ]
  },
  {
   "cell_type": "code",
   "execution_count": 57,
   "metadata": {
    "colab": {
     "base_uri": "https://localhost:8080/"
    },
    "id": "nXm1g76-sX2-",
    "outputId": "32fb440a-80ce-4081-da56-f7cc0308a692"
   },
   "outputs": [
    {
     "data": {
      "text/plain": [
       "480"
      ]
     },
     "execution_count": 57,
     "metadata": {},
     "output_type": "execute_result"
    }
   ],
   "source": [
    "len(imagePaths)"
   ]
  },
  {
   "cell_type": "code",
   "execution_count": 58,
   "metadata": {
    "colab": {
     "base_uri": "https://localhost:8080/"
    },
    "id": "-UMmf5E21ejc",
    "outputId": "01165363-e42a-4290-bd43-285f3eaf9a41"
   },
   "outputs": [
    {
     "data": {
      "text/plain": [
       "20"
      ]
     },
     "execution_count": 58,
     "metadata": {},
     "output_type": "execute_result"
    }
   ],
   "source": [
    "# Appending all the samples path and its corresponding labels in a list\n",
    "\n",
    "# Defining the path for samples\n",
    "classNames= os.listdir(config.DATASET_PATH)\n",
    "if '.DS_Store' in classNames:\n",
    "    classNames.remove('.DS_Store')\n",
    "\n",
    "len(classNames)"
   ]
  },
  {
   "cell_type": "markdown",
   "metadata": {},
   "source": [
    "# Properties check in order to choose average dimensions of the samples"
   ]
  },
  {
   "cell_type": "code",
   "execution_count": 59,
   "metadata": {
    "id": "BjFH2sbyRefk"
   },
   "outputs": [
    {
     "name": "stdout",
     "output_type": "stream",
     "text": [
      "The average height is: 4219.496454815006\n",
      "The average width is: 1870.0699153452795\n",
      "The highest image is: 2984 pixels high and its dimensions are: (2984, 5295) .\n",
      "The lowest image is: 260 pixels high and its dimensions are: (260, 630) .\n",
      "The widest image is: 5312 pixels wide and its dimensions are: (2965, 5312) .\n",
      "The narrowest image is: 370 pixels wide and its dimensions are: (335, 370) .\n"
     ]
    }
   ],
   "source": [
    "# Check dimensions of the imgs:\n",
    "maxH = 0\n",
    "HighestImage = 0\n",
    "minH = 10000\n",
    "LowestImage = 0\n",
    "maxW = 0\n",
    "WidestImage =0\n",
    "minW = 10000\n",
    "NarrowestImage = 0\n",
    "avg_H = []\n",
    "avg_W = []\n",
    "\n",
    "\n",
    "for image_path1 in os.listdir(config.DATASET_PATH):\n",
    "    if not image_path1.startswith('.'):\n",
    "        image_path2 = os.path.join(config.DATASET_PATH, image_path1)\n",
    "    \n",
    "    # Create the path for each subdirectory:\n",
    "        for image_path3 in os.listdir(image_path2):\n",
    "            image_path3 = os.path.join(image_path2, image_path3)\n",
    "            img = Image.open(image_path3)\n",
    "            \n",
    "            # Checking the average dimensions\n",
    "            avg_H.append(img.size[1])\n",
    "            avg_W.append(img.size[0]) \n",
    "            \n",
    "            # Checking the highest images\n",
    "            if img.size[0] > maxH:\n",
    "                maxH = img.size[0]\n",
    "                HighestImage = img.size\n",
    "                \n",
    "            # Checking the lowest images\n",
    "            if img.size[0] < minH:\n",
    "                minH = img.size[0]\n",
    "                LowestImage = img.size\n",
    "                \n",
    "            # Checking the widest images\n",
    "            if img.size[1] > maxW:\n",
    "                maxW = img.size[1]\n",
    "                WidestImage = img.size\n",
    "                \n",
    "            # Checking the narrowest images\n",
    "            if img.size[1] < minW:\n",
    "                minW = img.size[1]\n",
    "                NarrowestImage = img.size\n",
    "\n",
    "average_height = sum(avg_H)/len(avg_H)\n",
    "average_width = sum(avg_W)/len(avg_W)\n",
    "\n",
    "print(\"The average height is:\", average_height)\n",
    "print(\"The average width is:\", average_width)\n",
    "print(\"The highest image is:\", maxH,\"pixels high and its dimensions are:\", HighestImage, \".\")\n",
    "print(\"The lowest image is:\", minH,\"pixels high and its dimensions are:\", LowestImage, \".\")\n",
    "print(\"The widest image is:\", maxW,\"pixels wide and its dimensions are:\", WidestImage, \".\")\n",
    "print(\"The narrowest image is:\", minW,\"pixels wide and its dimensions are:\", NarrowestImage, \".\")"
   ]
  },
  {
   "cell_type": "code",
   "execution_count": 60,
   "metadata": {
    "colab": {
     "base_uri": "https://localhost:8080/"
    },
    "id": "7fbT87682kb2",
    "outputId": "6ea3fc87-462d-4168-c16f-18676cd831cd"
   },
   "outputs": [],
   "source": [
    "Dataset = []\n",
    "for i in range(len(imagePaths)):\n",
    "  for j in range(len(classNames)):\n",
    "    if imagePaths[i].find(classNames[j]) != -1:\n",
    "      Dataset.append((imagePaths[i],j-1))\n",
    "# Dataset"
   ]
  },
  {
   "cell_type": "markdown",
   "metadata": {
    "id": "SHVTfVd5_1yx"
   },
   "source": [
    "# SIFT for feature extraction"
   ]
  },
  {
   "cell_type": "code",
   "execution_count": 61,
   "metadata": {
    "id": "AeGlWBbs36At"
   },
   "outputs": [],
   "source": [
    "# Initialise empty list for descriptors\n",
    "descriptor_list = []"
   ]
  },
  {
   "cell_type": "code",
   "execution_count": 62,
   "metadata": {
    "id": "MsARz7wk4Mi1"
   },
   "outputs": [],
   "source": [
    "# Create SIFT feature extractor\n",
    "sift = cv2.SIFT_create(nfeatures= config.nfts)"
   ]
  },
  {
   "cell_type": "code",
   "execution_count": 63,
   "metadata": {
    "colab": {
     "base_uri": "https://localhost:8080/"
    },
    "id": "ipfx-mTRAQlj",
    "outputId": "0e888a13-2748-4097-b1af-72390b4a0acd"
   },
   "outputs": [],
   "source": [
    "# Appending descriptors of images in a list\n",
    "for i in imagePaths:\n",
    "    img = cv2.imread(i)\n",
    "    img = cv2.resize(img,(config.INPUT_WIDTH,config.INPUT_HEIGHT))\n",
    "    grayImg = cv2.cvtColor(img, cv2.COLOR_BGR2GRAY)\n",
    "    keypoints, descriptor = sift.detectAndCompute(grayImg, None)\n",
    "    descriptor_list.append((i,descriptor))"
   ]
  },
  {
   "cell_type": "code",
   "execution_count": 64,
   "metadata": {},
   "outputs": [
    {
     "name": "stdout",
     "output_type": "stream",
     "text": [
      "1\n",
      "2\n",
      "3\n",
      "4\n",
      "5\n",
      "6\n",
      "7\n",
      "8\n",
      "9\n",
      "10\n",
      "11\n",
      "12\n",
      "13\n",
      "14\n",
      "15\n",
      "16\n",
      "17\n",
      "18\n",
      "19\n",
      "20\n",
      "21\n",
      "22\n",
      "23\n",
      "24\n",
      "25\n",
      "26\n",
      "27\n",
      "28\n",
      "29\n",
      "30\n",
      "31\n",
      "32\n",
      "33\n",
      "34\n",
      "35\n",
      "36\n",
      "37\n",
      "38\n",
      "39\n",
      "40\n",
      "41\n",
      "42\n",
      "43\n",
      "44\n",
      "45\n",
      "46\n",
      "47\n",
      "48\n",
      "49\n",
      "50\n",
      "51\n",
      "52\n",
      "53\n",
      "54\n",
      "55\n",
      "56\n",
      "57\n",
      "58\n",
      "59\n",
      "60\n",
      "61\n",
      "62\n",
      "63\n",
      "64\n",
      "65\n",
      "66\n",
      "67\n",
      "68\n",
      "69\n",
      "70\n",
      "71\n",
      "72\n",
      "73\n",
      "74\n",
      "75\n",
      "76\n",
      "77\n",
      "78\n",
      "79\n",
      "80\n",
      "81\n",
      "82\n",
      "83\n",
      "84\n",
      "85\n",
      "86\n",
      "87\n",
      "88\n",
      "89\n",
      "90\n",
      "91\n",
      "92\n",
      "93\n",
      "94\n",
      "95\n",
      "96\n",
      "97\n",
      "98\n",
      "99\n",
      "100\n",
      "101\n",
      "102\n",
      "103\n",
      "104\n",
      "105\n",
      "106\n",
      "107\n",
      "108\n",
      "109\n",
      "110\n",
      "111\n",
      "112\n",
      "113\n",
      "114\n",
      "115\n",
      "116\n",
      "117\n",
      "118\n",
      "119\n",
      "120\n",
      "121\n",
      "122\n",
      "123\n",
      "124\n",
      "125\n",
      "126\n",
      "127\n",
      "128\n",
      "129\n",
      "130\n",
      "131\n",
      "132\n",
      "133\n",
      "134\n",
      "135\n",
      "136\n",
      "137\n",
      "138\n",
      "139\n",
      "140\n",
      "141\n",
      "142\n",
      "143\n",
      "144\n",
      "145\n",
      "146\n",
      "147\n",
      "148\n",
      "149\n",
      "150\n",
      "151\n",
      "152\n",
      "153\n",
      "154\n",
      "155\n",
      "156\n",
      "157\n",
      "158\n",
      "159\n",
      "160\n",
      "161\n",
      "162\n",
      "163\n",
      "164\n",
      "165\n",
      "166\n",
      "167\n",
      "168\n",
      "169\n",
      "170\n",
      "171\n",
      "172\n",
      "173\n",
      "174\n",
      "175\n",
      "176\n",
      "177\n",
      "178\n",
      "179\n",
      "180\n",
      "181\n",
      "182\n",
      "183\n",
      "184\n",
      "185\n",
      "186\n",
      "187\n",
      "188\n",
      "189\n",
      "190\n",
      "191\n",
      "192\n",
      "193\n",
      "194\n",
      "195\n",
      "196\n",
      "197\n",
      "198\n",
      "199\n",
      "200\n",
      "201\n",
      "202\n",
      "203\n",
      "204\n",
      "205\n",
      "206\n",
      "207\n",
      "208\n",
      "209\n",
      "210\n",
      "211\n",
      "212\n",
      "213\n",
      "214\n",
      "215\n",
      "216\n",
      "217\n",
      "218\n",
      "219\n",
      "220\n",
      "221\n",
      "222\n",
      "223\n",
      "224\n",
      "225\n",
      "226\n",
      "227\n",
      "228\n",
      "229\n",
      "230\n",
      "231\n",
      "232\n",
      "233\n",
      "234\n",
      "235\n",
      "236\n",
      "237\n",
      "238\n",
      "239\n",
      "240\n",
      "241\n",
      "242\n",
      "243\n",
      "244\n",
      "245\n",
      "246\n",
      "247\n",
      "248\n",
      "249\n",
      "250\n",
      "251\n",
      "252\n",
      "253\n",
      "254\n",
      "255\n",
      "256\n",
      "257\n",
      "258\n",
      "259\n",
      "260\n",
      "261\n",
      "262\n",
      "263\n",
      "264\n",
      "265\n",
      "266\n",
      "267\n",
      "268\n",
      "269\n",
      "270\n",
      "271\n",
      "272\n",
      "273\n",
      "274\n",
      "275\n",
      "276\n",
      "277\n",
      "278\n",
      "279\n",
      "280\n",
      "281\n",
      "282\n",
      "283\n",
      "284\n",
      "285\n",
      "286\n",
      "287\n",
      "288\n",
      "289\n",
      "290\n",
      "291\n",
      "292\n",
      "293\n",
      "294\n",
      "295\n",
      "296\n",
      "297\n",
      "298\n",
      "299\n",
      "300\n",
      "301\n",
      "302\n",
      "303\n",
      "304\n",
      "305\n",
      "306\n",
      "307\n",
      "308\n",
      "309\n",
      "310\n",
      "311\n",
      "312\n",
      "313\n",
      "314\n",
      "315\n",
      "316\n",
      "317\n",
      "318\n",
      "319\n",
      "320\n",
      "321\n",
      "322\n",
      "323\n",
      "324\n",
      "325\n",
      "326\n",
      "327\n",
      "328\n",
      "329\n",
      "330\n",
      "331\n",
      "332\n",
      "333\n",
      "334\n",
      "335\n",
      "336\n",
      "337\n",
      "338\n",
      "339\n",
      "340\n",
      "341\n",
      "342\n",
      "343\n",
      "344\n",
      "345\n",
      "346\n",
      "347\n",
      "348\n",
      "349\n",
      "350\n",
      "351\n",
      "352\n",
      "353\n",
      "354\n",
      "355\n",
      "356\n",
      "357\n",
      "358\n",
      "359\n",
      "360\n",
      "361\n",
      "362\n",
      "363\n",
      "364\n",
      "365\n",
      "366\n",
      "367\n",
      "368\n",
      "369\n",
      "370\n",
      "371\n",
      "372\n",
      "373\n",
      "374\n",
      "375\n",
      "376\n",
      "377\n",
      "378\n",
      "379\n",
      "380\n",
      "381\n",
      "382\n",
      "383\n",
      "384\n",
      "385\n",
      "386\n",
      "387\n",
      "388\n",
      "389\n",
      "390\n",
      "391\n",
      "392\n",
      "393\n",
      "394\n",
      "395\n",
      "396\n",
      "397\n",
      "398\n",
      "399\n",
      "400\n",
      "401\n",
      "402\n",
      "403\n",
      "404\n",
      "405\n",
      "406\n",
      "407\n",
      "408\n",
      "409\n",
      "410\n",
      "411\n",
      "412\n",
      "413\n",
      "414\n",
      "415\n",
      "416\n",
      "417\n",
      "418\n",
      "419\n",
      "420\n",
      "421\n",
      "422\n",
      "423\n",
      "424\n",
      "425\n",
      "426\n",
      "427\n",
      "428\n",
      "429\n",
      "430\n",
      "431\n",
      "432\n",
      "433\n",
      "434\n",
      "435\n",
      "436\n",
      "437\n",
      "438\n",
      "439\n",
      "440\n",
      "441\n",
      "442\n",
      "443\n",
      "444\n",
      "445\n",
      "446\n",
      "447\n",
      "448\n",
      "449\n",
      "450\n",
      "451\n",
      "452\n",
      "453\n",
      "454\n",
      "455\n",
      "456\n",
      "457\n",
      "458\n",
      "459\n",
      "460\n",
      "461\n",
      "462\n",
      "463\n",
      "464\n",
      "465\n",
      "466\n",
      "467\n",
      "468\n",
      "469\n",
      "470\n",
      "471\n",
      "472\n",
      "473\n",
      "474\n",
      "475\n",
      "476\n",
      "477\n",
      "478\n",
      "479\n"
     ]
    }
   ],
   "source": [
    "descriptors = descriptor_list[0][1]\n",
    "for samplePath,descriptor in descriptor_list[1:]: \n",
    "    descriptors=np.vstack((descriptors,descriptor))"
   ]
  },
  {
   "cell_type": "code",
   "execution_count": 65,
   "metadata": {
    "id": "6ZOvc1MPAQzf"
   },
   "outputs": [],
   "source": [
    "# Convert data from string/int to float\n",
    "descriptors_float=descriptors.astype(float)"
   ]
  },
  {
   "cell_type": "markdown",
   "metadata": {
    "id": "U0kLIukNGb6G"
   },
   "source": [
    "## Codebook Contruction"
   ]
  },
  {
   "cell_type": "code",
   "execution_count": 66,
   "metadata": {
    "id": "lnL6cXxdAQ1_"
   },
   "outputs": [],
   "source": [
    "# Clustering on descriptors for codebook construction\n",
    "k = 200 #codebook size\n",
    "voc,variance=kmeans(descriptors_float, k, 1)"
   ]
  },
  {
   "cell_type": "code",
   "execution_count": 67,
   "metadata": {
    "id": "JynOJw6AAQ4p"
   },
   "outputs": [],
   "source": [
    "# Creating histogram of images\n",
    "img_features = np.zeros((len(imagePaths),k),\"float32\")\n",
    "\n",
    "for i in range(len(imagePaths)):\n",
    "    words,distance=vq(descriptor_list[i][1],voc)\n",
    "    for w in words:\n",
    "        img_features[i][w]+=1"
   ]
  },
  {
   "cell_type": "code",
   "execution_count": 68,
   "metadata": {
    "id": "-kdkDs6sAQ61"
   },
   "outputs": [
    {
     "data": {
      "text/plain": [
       "(480, 200)"
      ]
     },
     "execution_count": 68,
     "metadata": {},
     "output_type": "execute_result"
    }
   ],
   "source": [
    "# Standarisation of features\n",
    "stdslr=StandardScaler().fit(img_features)\n",
    "img_features=stdslr.transform(img_features)\n",
    "img_features.shape"
   ]
  },
  {
   "cell_type": "code",
   "execution_count": 69,
   "metadata": {
    "id": "UjTGjWmtAQ9U"
   },
   "outputs": [],
   "source": [
    "# Appending labels to the features data\n",
    "Dataset = np.array(Dataset)\n",
    "Labels = Dataset[:,1]\n",
    "img_features3 = np.c_[img_features, Labels]"
   ]
  },
  {
   "cell_type": "code",
   "execution_count": 70,
   "metadata": {
    "id": "9T7DLX9-AQ_y"
   },
   "outputs": [
    {
     "data": {
      "text/plain": [
       "array([['-0.15904437', '-0.04569117', '-0.11250879', ..., '-0.13823271',\n",
       "        '-0.18090226', '12'],\n",
       "       ['-0.15904437', '-0.04569117', '-0.11250879', ..., '-0.13823271',\n",
       "        '-0.18090226', '5'],\n",
       "       ['-0.15904437', '-0.04569117', '-0.11250879', ..., '-0.13823271',\n",
       "        '-0.18090226', '6'],\n",
       "       ...,\n",
       "       ['-0.15904437', '-0.04569117', '-0.11250879', ..., '-0.13823271',\n",
       "        '-0.18090226', '14'],\n",
       "       ['-0.15904437', '-0.04569117', '-0.11250879', ..., '-0.13823271',\n",
       "        '-0.18090226', '12'],\n",
       "       ['-0.15904437', '-0.04569117', '-0.11250879', ..., '-0.13823271',\n",
       "        '-0.18090226', '1']], dtype='<U59')"
      ]
     },
     "execution_count": 70,
     "metadata": {},
     "output_type": "execute_result"
    }
   ],
   "source": [
    "img_features3"
   ]
  },
  {
   "cell_type": "code",
   "execution_count": 71,
   "metadata": {
    "id": "lS9AuFjWAREn"
   },
   "outputs": [],
   "source": [
    "# Convert to df and save data set\n",
    "df_Data = pd.DataFrame(Dataset)\n",
    "df_SIFTLabels = pd.DataFrame(img_features3)"
   ]
  },
  {
   "cell_type": "markdown",
   "metadata": {
    "id": "G3FIiLbAJjKp"
   },
   "source": [
    "# Classification - SVM"
   ]
  },
  {
   "cell_type": "code",
   "execution_count": 72,
   "metadata": {
    "id": "o1Cc3UI0Jk5u"
   },
   "outputs": [],
   "source": [
    "# Labels\n",
    "y = df_Data[1]\n",
    "df_Data = df_Data.drop([1], axis = 1)\n",
    "df_Data = df_Data[0].tolist()\n",
    "df_SIFTLabels  = df_SIFTLabels .drop([200], axis = 1) "
   ]
  },
  {
   "cell_type": "code",
   "execution_count": 73,
   "metadata": {
    "id": "9of-Tof6Kp82"
   },
   "outputs": [],
   "source": [
    "# Split in train and test (80/20)\n",
    "X_train_sift, X_test_sift, y_train_sift, y_test_sift = train_test_split(df_SIFTLabels, y, train_size = 0.8, random_state=0)"
   ]
  },
  {
   "cell_type": "markdown",
   "metadata": {
    "id": "lc0Nd4WeLF3J"
   },
   "source": [
    "SVM gridsearch and validation of best found models on SIFT data"
   ]
  },
  {
   "cell_type": "code",
   "execution_count": 74,
   "metadata": {
    "id": "WbbgeEy6LIna"
   },
   "outputs": [
    {
     "name": "stdout",
     "output_type": "stream",
     "text": [
      "Fitting 5 folds for each of 32 candidates, totalling 160 fits\n",
      "Best found SVM parameters for the SIFT dataset: {'C': 10, 'gamma': 'scale', 'kernel': 'rbf'}\n"
     ]
    }
   ],
   "source": [
    "# Defining parameter range for the SVM\n",
    "param_grid_SVM = {'C': [0.1, 1, 10, 100],  \n",
    "              'kernel': ['rbf', 'linear', 'poly', 'sigmoid'],\n",
    "              'gamma': ['scale', 'auto']}  \n",
    "svc_sift = GridSearchCV(svm.SVC(), param_grid_SVM, refit = True, scoring = 'accuracy', verbose = 1)\n",
    "\n",
    "# Fitting the models for grid search for KNN\n",
    "svc_sift = svc_sift.fit(X_train_sift, y_train_sift)\n",
    "\n",
    "# print best parameter after tuning\n",
    "print('Best found SVM parameters for the SIFT dataset: ' + str(svc_sift.best_params_))"
   ]
  },
  {
   "cell_type": "code",
   "execution_count": 75,
   "metadata": {
    "id": "9-erQmyjLbkm"
   },
   "outputs": [
    {
     "name": "stdout",
     "output_type": "stream",
     "text": [
      "SIFT data accuracy: 0.06250\n",
      "cross validation scores on SIFT data: [0.05208333 0.0625     0.125      0.09375    0.11458333]\n",
      "13341.035014867783\n"
     ]
    }
   ],
   "source": [
    "# Get accuracy of best found models on test data\n",
    "svc_sift_acc = svc_sift.best_estimator_.score(X_test_sift, y_test_sift)\n",
    "print('SIFT data accuracy: %.5f' % (svc_sift_acc))\n",
    "\n",
    "# Perform 5 fold cross validation with best models\n",
    "cv_scores_sift = cross_val_score(svc_sift.best_estimator_, df_SIFTLabels, y, cv=5)\n",
    "end = time.time()\n",
    "print('cross validation scores on SIFT data:', cv_scores_sift)\n",
    "print(end - start)"
   ]
  },
  {
   "cell_type": "code",
   "execution_count": 76,
   "metadata": {
    "id": "FJHq_YudMfdY"
   },
   "outputs": [
    {
     "data": {
      "text/html": [
       "<div>\n",
       "<style scoped>\n",
       "    .dataframe tbody tr th:only-of-type {\n",
       "        vertical-align: middle;\n",
       "    }\n",
       "\n",
       "    .dataframe tbody tr th {\n",
       "        vertical-align: top;\n",
       "    }\n",
       "\n",
       "    .dataframe thead th {\n",
       "        text-align: right;\n",
       "    }\n",
       "</style>\n",
       "<table border=\"1\" class=\"dataframe\">\n",
       "  <thead>\n",
       "    <tr style=\"text-align: right;\">\n",
       "      <th></th>\n",
       "      <th>Classifier</th>\n",
       "      <th>80/20-test</th>\n",
       "      <th>five-fold-mean</th>\n",
       "      <th>five-fold-std</th>\n",
       "    </tr>\n",
       "  </thead>\n",
       "  <tbody>\n",
       "    <tr>\n",
       "      <th>0</th>\n",
       "      <td>SIFT_SVM</td>\n",
       "      <td>0.0625</td>\n",
       "      <td>0.089583</td>\n",
       "      <td>0.028413</td>\n",
       "    </tr>\n",
       "  </tbody>\n",
       "</table>\n",
       "</div>"
      ],
      "text/plain": [
       "  Classifier  80/20-test  five-fold-mean  five-fold-std\n",
       "0   SIFT_SVM      0.0625        0.089583       0.028413"
      ]
     },
     "execution_count": 76,
     "metadata": {},
     "output_type": "execute_result"
    }
   ],
   "source": [
    "# Add results of classifier to dataframe\n",
    "SVM_data = pd.DataFrame({'Classifier': ['SIFT_SVM'], \n",
    "        '80/20-test': [svc_sift_acc],\n",
    "        'five-fold-mean': [cv_scores_sift.mean()],\n",
    "        'five-fold-std': [cv_scores_sift.std()]})\n",
    "\n",
    "SVM_data"
   ]
  },
  {
   "cell_type": "markdown",
   "metadata": {
    "id": "DlleD3Yi83DT"
   },
   "source": [
    "# Plots"
   ]
  },
  {
   "cell_type": "code",
   "execution_count": 77,
   "metadata": {
    "id": "S7nQXWkmNxsK"
   },
   "outputs": [
    {
     "data": {
      "image/png": "[encoded data removed]",
      "text/plain": [
       "<Figure size 1440x1440 with 2 Axes>"
      ]
     },
     "metadata": {
      "needs_background": "light"
     },
     "output_type": "display_data"
    }
   ],
   "source": [
    "# Confusion matrix and saving\n",
    "\n",
    "predictions = svc_sift.best_estimator_.predict(X_test_sift)\n",
    "cm = confusion_matrix(y_test_sift, predictions, labels=svc_sift.best_estimator_.classes_)\n",
    "disp = ConfusionMatrixDisplay(confusion_matrix=cm, display_labels = classNames)\n",
    "disp.plot()\n",
    "plt.gcf().set_size_inches(20, 20)\n",
    "plt.savefig(\"CM.png\")\n",
    "plt.show()"
   ]
  },
  {
   "cell_type": "markdown",
   "metadata": {
    "id": "MVg2Yqk5DGC0"
   },
   "source": []
  }
 ],
 "metadata": {
  "colab": {
   "collapsed_sections": [],
   "name": "SIFT_SVM.ipynb",
   "provenance": []
  },
  "kernelspec": {
   "display_name": "Python 3 (ipykernel)",
   "language": "python",
   "name": "python3"
  },
  "language_info": {
   "codemirror_mode": {
    "name": "ipython",
    "version": 3
   },
   "file_extension": ".py",
   "mimetype": "text/x-python",
   "name": "python",
   "nbconvert_exporter": "python",
   "pygments_lexer": "ipython3",
   "version": "3.9.10"
  }
 },
 "nbformat": 4,
 "nbformat_minor": 1
}
